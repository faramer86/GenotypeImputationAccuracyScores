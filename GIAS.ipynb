{
 "cells": [
  {
   "cell_type": "code",
   "execution_count": 311,
   "metadata": {},
   "outputs": [],
   "source": [
    "from cyvcf2 import VCF\n",
    "import subprocess\n",
    "import os\n",
    "import numpy as np\n",
    "import pandas as pd\n",
    "from tqdm import trange\n",
    "from colorama import Fore\n",
    "from functools import reduce"
   ]
  },
  {
   "cell_type": "code",
   "execution_count": null,
   "metadata": {},
   "outputs": [],
   "source": [
    "# REFS:\n",
    "# https://www.cell.com/ajhg/fulltext/S0002-9297(09)00020-2"
   ]
  },
  {
   "cell_type": "code",
   "execution_count": null,
   "metadata": {},
   "outputs": [],
   "source": [
    "# TODO: missing genotypes check\n",
    "# TODO: argparse\n",
    "# TODO: generate test data\n",
    "# TODO: asserts for ID, REF/ALT etc.\n",
    "# TODO: refactor functions"
   ]
  },
  {
   "cell_type": "code",
   "execution_count": 431,
   "metadata": {},
   "outputs": [],
   "source": [
    "mask = 'data/target.masked.vcf.gz'\n",
    "imp = 'data/HRC.masked.vcf.gz'"
   ]
  },
  {
   "cell_type": "code",
   "execution_count": 527,
   "metadata": {},
   "outputs": [],
   "source": [
    "def give_ns(gt_masked: np.array) -> np.array:\n",
    "    \"\"\"\n",
    "    Action:\n",
    "    Calculate total number of individuals\n",
    "    for each actual genotype type.\n",
    "    \n",
    "    For more info:\n",
    "    see ImputationQualityScore()\n",
    "    \"\"\"\n",
    "    return np.array([sum(gt_masked == i) for i in range(3)])\n",
    "\n",
    "def give_ms(prob_imp: np.array) -> np.array:\n",
    "    \"\"\"\n",
    "    Action:\n",
    "    Calculate sum of marginal probabilities\n",
    "    for each imputed genotype type.\n",
    "    \n",
    "    For more info:\n",
    "    see ImputationQualityScore()\n",
    "    \"\"\"\n",
    "    return  reduce(lambda x, y : x + y, prob_imp)\n",
    "\n",
    "def give_Po(geno_mask: np.array,\n",
    "            geno_imp: np.array,\n",
    "            prob_imp: np.array) -> float:\n",
    "    \"\"\"\n",
    "    Action:\n",
    "    Calculate Po (Concordance rate)*\n",
    "    \n",
    "    Note: In comparison with Concordance(...),\n",
    "    this coefficient uses imputed probabilities\n",
    "    instead of best guess genotypes\n",
    "    \n",
    "    For more info:\n",
    "    see ImputationQualityScore()\n",
    "    \"\"\"\n",
    "    prob_imp_max = np.array(list(map(lambda x : max(x), prob_imp)))\n",
    "    return sum(prob_imp_max[geno_mask == geno_imp])/len(prob_imp_max)\n",
    "\n",
    "def give_Pc(ms: np.array,\n",
    "            ns: np.array) -> float:\n",
    "    \"\"\"\n",
    "    Action:\n",
    "    Calculate Po (Concordance rate)\n",
    "    \n",
    "    For more info:\n",
    "    see ImputationQualityScore()\n",
    "    \"\"\"\n",
    "    return np.dot(ns, ms)/sum(ns)**2\n",
    "\n",
    "def ImputationQualityScore(geno_mask: np.array,\n",
    "                           prob_imp: np.array,\n",
    "                           Po :float) -> float:\n",
    "    \"\"\"\n",
    "    Action: \n",
    "    Calculate IQS (imputation quality score)\n",
    "    Formula - (Po - Pc)/(1 - Pc)\n",
    "    \n",
    "    Input:\n",
    "    1) encoded masked genotypes {0, 1, 2}*\n",
    "    1) encoded imputed genotypes {0, 1, 2}*\n",
    "    1) imputed genotype probabilities [0-1]\n",
    "    (FORMAT = GP)\n",
    "    \n",
    "    *Note:\n",
    "    Counted allele - alternative\n",
    "    \n",
    "    References:\n",
    "    https://doi.org/10.1371/journal.pone.0137601\n",
    "    https://doi.org/10.1371/journal.pone.0009697\n",
    "    \"\"\"\n",
    "    \n",
    "    ns = give_ns(geno_mask)\n",
    "    ms = give_ms(prob_imp)\n",
    "    Pc = give_Pc(ns, ms)\n",
    "    \n",
    "    return round((Po - Pc)/(1 - Pc), 3)"
   ]
  },
  {
   "cell_type": "code",
   "execution_count": 528,
   "metadata": {},
   "outputs": [],
   "source": [
    "def Rsquare(geno_mask: np.array,\n",
    "            dasage_imp: np.array) -> float:\n",
    "    \"\"\"\n",
    "    Action: \n",
    "    Calculate Squared Correlation coefficient\n",
    "    between encoded genotypes and imputed dosages\n",
    "    \n",
    "    Input:\n",
    "    1) encoded masked genotypes {0, 1, 2}*\n",
    "    2) imputed dosages [0-2]\n",
    "\n",
    "    *Note:\n",
    "    Counted allele - alternative\n",
    "    \"\"\"\n",
    "    return round(np.corrcoef(geno_mask, dasage_imp)[0,1]**2, 3)"
   ]
  },
  {
   "cell_type": "code",
   "execution_count": 529,
   "metadata": {},
   "outputs": [],
   "source": [
    "def Concordance(geno_mask: np.array,\n",
    "                geno_imp: np.array) -> float:\n",
    "    \"\"\"\n",
    "    Action: \n",
    "    Calculate Concordance coefficient\n",
    "    between encoded actual and imputed genotypes. \n",
    "    \n",
    "    Input:\n",
    "    1) encoded masked genotypes {0, 1, 2}*\n",
    "    2) encoded imputed genotypes {0, 1, 2}*\n",
    "\n",
    "    *Note:\n",
    "    Counted allele - alternative\n",
    "    \"\"\"\n",
    "    return round(sum(geno_mask == geno_imp)/len(geno_mask), 3)"
   ]
  },
  {
   "cell_type": "code",
   "execution_count": 530,
   "metadata": {},
   "outputs": [
    {
     "name": "stderr",
     "output_type": "stream",
     "text": [
      "100%|\u001b[91m█████████▉\u001b[39m| 23603/23604 [01:56<00:00, 202.03it/s]\n"
     ]
    }
   ],
   "source": [
    "NVARS = int(subprocess.run(f'zcat {imp} | grep -v \"#\" | cut -f1 | wc -l', shell=True, capture_output=True).stdout)\n",
    "BAR_FORMAT = \"{l_bar}%s{bar}%s{r_bar}\" % (Fore.LIGHTRED_EX, Fore.RESET)\n",
    "\n",
    "scores = pd.DataFrame(columns=['ID', 'AF', 'CR_GT', 'CR_GP', 'R2', 'IQS', 'DR2'])\n",
    "\n",
    "for masked, imputed, _ in zip(VCF(mask),\n",
    "                           VCF(imp),\n",
    "                           trange(NVARS, bar_format=BAR_FORMAT)):\n",
    "    ID = masked.ID\n",
    "    AF = imputed.aaf\n",
    "    if masked.call_rate != 1:\n",
    "        print(f'Warning: Call rate of {ID} is not 1 -> We will skip it!')\n",
    "        continue\n",
    "    \n",
    "    # Inputs: genotypes, imputation probabilities and dosages\n",
    "    GT_masked = np.array(list(map(lambda x : x[0] + x[1], masked.genotypes)))\n",
    "    GT_imputed = np.array(list(map(lambda x : x[0] + x[1], imputed.genotypes)))\n",
    "    GP_imputed = imputed.format('GP')\n",
    "    DS_imputed = np.squeeze(imputed.format('DS'))\n",
    "    \n",
    "    # Scores\n",
    "    if imputed.INFO.get('DR2'):\n",
    "        DR2 = round(imputed.INFO.get('DR2'), 3)\n",
    "    CR_GT = Concordance(GT_masked, GT_imputed)\n",
    "    CR_GP = give_Po(GT_masked, GT_imputed, GP_imputed)\n",
    "    IQS = ImputationQualityScore(GT_masked, GP_imputed, CR_GP)\n",
    "    R2 = Rsquare(GT_masked, DS_imputed)\n",
    "    \n",
    "    df_tmp = pd.DataFrame({'ID' : [ID],\n",
    "                           'AF' : [AF],\n",
    "                           'CR_GT' : [CR_GT],\n",
    "                           'CR_GP' : [CR_GP],\n",
    "                           'R2' : [R2],\n",
    "                           'IQS' : [IQS],\n",
    "                           'DR2' : [DR2]})\n",
    "    \n",
    "    scores = pd.concat([scores, df_tmp])   "
   ]
  },
  {
   "cell_type": "code",
   "execution_count": 484,
   "metadata": {},
   "outputs": [
    {
     "data": {
      "text/plain": [
       "247"
      ]
     },
     "execution_count": 484,
     "metadata": {},
     "output_type": "execute_result"
    }
   ],
   "source": [
    "len(GP_imputed)"
   ]
  },
  {
   "cell_type": "code",
   "execution_count": 485,
   "metadata": {},
   "outputs": [
    {
     "data": {
      "text/plain": [
       "247"
      ]
     },
     "execution_count": 485,
     "metadata": {},
     "output_type": "execute_result"
    }
   ],
   "source": [
    "sum(ns)"
   ]
  },
  {
   "cell_type": "code",
   "execution_count": 423,
   "metadata": {},
   "outputs": [
    {
     "data": {
      "text/plain": [
       "[220, 27]"
      ]
     },
     "execution_count": 423,
     "metadata": {},
     "output_type": "execute_result"
    }
   ],
   "source": [
    "[sum(GT_masked == i) for i in range(2)]"
   ]
  },
  {
   "cell_type": "code",
   "execution_count": 479,
   "metadata": {},
   "outputs": [
    {
     "data": {
      "text/plain": [
       "22638.138648986816"
      ]
     },
     "execution_count": 479,
     "metadata": {},
     "output_type": "execute_result"
    }
   ],
   "source": [
    "np.dot(ns, ms)"
   ]
  },
  {
   "cell_type": "code",
   "execution_count": 369,
   "metadata": {},
   "outputs": [],
   "source": [
    "scores.to_csv('test.tsv', sep='\\t', index=False)"
   ]
  },
  {
   "cell_type": "code",
   "execution_count": 254,
   "metadata": {},
   "outputs": [
    {
     "data": {
      "text/plain": [
       "<AxesSubplot:xlabel='IQS', ylabel='DR2'>"
      ]
     },
     "execution_count": 254,
     "metadata": {},
     "output_type": "execute_result"
    },
    {
     "data": {
      "image/png": "[encoded data removed]",
      "text/plain": [
       "<Figure size 432x288 with 1 Axes>"
      ]
     },
     "metadata": {
      "needs_background": "light"
     },
     "output_type": "display_data"
    }
   ],
   "source": [
    "scores.plot.scatter(x='IQS', y='DR2')"
   ]
  },
  {
   "cell_type": "code",
   "execution_count": 534,
   "metadata": {},
   "outputs": [
    {
     "data": {
      "text/plain": [
       "<AxesSubplot:xlabel='AF', ylabel='CR_GP'>"
      ]
     },
     "execution_count": 534,
     "metadata": {},
     "output_type": "execute_result"
    },
    {
     "data": {
      "image/png": "[encoded data removed]",
      "text/plain": [
       "<Figure size 432x288 with 1 Axes>"
      ]
     },
     "metadata": {
      "needs_background": "light"
     },
     "output_type": "display_data"
    }
   ],
   "source": [
    "scores[scores.IQS > 0].plot.scatter(x='AF', y='CR_GP')"
   ]
  },
  {
   "cell_type": "code",
   "execution_count": 538,
   "metadata": {},
   "outputs": [],
   "source": [
    "scores['AF_group'] = list(map(lambda af : '>0.05' if af > 0.05 else '0.01-0.05' if af < 0.05 and af > 0.01 else '<0.01', scores.AF))"
   ]
  },
  {
   "cell_type": "code",
   "execution_count": 540,
   "metadata": {},
   "outputs": [],
   "source": [
    "import seaborn as sns"
   ]
  },
  {
   "cell_type": "code",
   "execution_count": 544,
   "metadata": {},
   "outputs": [
    {
     "data": {
      "text/plain": [
       "<AxesSubplot:xlabel='AF_group', ylabel='IQS'>"
      ]
     },
     "execution_count": 544,
     "metadata": {},
     "output_type": "execute_result"
    },
    {
     "data": {
      "image/png": "[encoded data removed]",
      "text/plain": [
       "<Figure size 432x288 with 1 Axes>"
      ]
     },
     "metadata": {
      "needs_background": "light"
     },
     "output_type": "display_data"
    }
   ],
   "source": [
    "sns.boxplot(x='AF_group', y='IQS', data=scores)"
   ]
  },
  {
   "cell_type": "code",
   "execution_count": 548,
   "metadata": {},
   "outputs": [
    {
     "data": {
      "text/plain": [
       "<AxesSubplot:xlabel='AF_group', ylabel='CR_GP'>"
      ]
     },
     "execution_count": 548,
     "metadata": {},
     "output_type": "execute_result"
    },
    {
     "data": {
      "image/png": "[encoded data removed]",
      "text/plain": [
       "<Figure size 432x288 with 1 Axes>"
      ]
     },
     "metadata": {
      "needs_background": "light"
     },
     "output_type": "display_data"
    }
   ],
   "source": [
    "sns.boxplot(x='AF_group', y='CR_GP', data=scores)"
   ]
  },
  {
   "cell_type": "code",
   "execution_count": 550,
   "metadata": {},
   "outputs": [
    {
     "data": {
      "text/plain": [
       "array([ 85.64   , 114.37999,  46.94   ], dtype=float32)"
      ]
     },
     "execution_count": 550,
     "metadata": {},
     "output_type": "execute_result"
    }
   ],
   "source": [
    "reduce(lambda x, y: x + y, GP_imputed)"
   ]
  },
  {
   "cell_type": "code",
   "execution_count": 551,
   "metadata": {},
   "outputs": [
    {
     "data": {
      "text/plain": [
       "array([ 78, 119,  50])"
      ]
     },
     "execution_count": 551,
     "metadata": {},
     "output_type": "execute_result"
    }
   ],
   "source": [
    "np.array([sum(GT_masked == i) for i in range(3)])"
   ]
  }
 ],
 "metadata": {
  "kernelspec": {
   "display_name": "IAS",
   "language": "python",
   "name": "ias"
  },
  "language_info": {
   "codemirror_mode": {
    "name": "ipython",
    "version": 3
   },
   "file_extension": ".py",
   "mimetype": "text/x-python",
   "name": "python",
   "nbconvert_exporter": "python",
   "pygments_lexer": "ipython3",
   "version": "3.8.10"
  }
 },
 "nbformat": 4,
 "nbformat_minor": 4
}
